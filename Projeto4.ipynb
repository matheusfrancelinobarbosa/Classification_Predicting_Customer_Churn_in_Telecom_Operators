{
 "cells": [
  {
   "cell_type": "markdown",
   "id": "6b0fd9fe",
   "metadata": {},
   "source": [
    "# Predicting Customer Churn in Telecom Operators\n"
   ]
  },
  {
   "cell_type": "code",
   "execution_count": null,
   "id": "9eb9a19c",
   "metadata": {},
   "outputs": [],
   "source": [
    "# Python Language Version\n",
    "from platform import python_version\n",
    "print('Python Language Version Used in This Jupyter Notebook:', python_version())"
   ]
  },
  {
   "cell_type": "code",
   "execution_count": null,
   "id": "ab952970",
   "metadata": {},
   "outputs": [],
   "source": [
    "# Imports\n",
    "#Libraries for saving the Model\n",
    "import joblib\n",
    "import pickle\n",
    "\n",
    "#Data manipulation libraries\n",
    "import numpy as np\n",
    "import pandas as pd\n",
    "\n",
    "#Data visualization libraries\n",
    "import seaborn as sns\n",
    "from matplotlib import pyplot as plt\n",
    "\n",
    "from sklearn.preprocessing import StandardScaler\n",
    "\n",
    "#Libraries for Machine Learning\n",
    "import sklearn\n",
    "from sklearn.model_selection import train_test_split # Split the dataset\n",
    "from sklearn.model_selection import GridSearchCV # Hyper Parameter Optimization\n",
    "from sklearn.model_selection import cross_val_score #Model Evaluation\n",
    "from sklearn.model_selection import RandomizedSearchCV # Hyper Parameter Optimization\n",
    "\n",
    "#Libraries with algorithms for Machine Learning\n",
    "from sklearn.linear_model import LogisticRegression\n",
    "from sklearn.ensemble import RandomForestClassifier\n",
    "from sklearn.neighbors import KNeighborsClassifier\n",
    "from sklearn.tree import DecisionTreeClassifier\n",
    "from sklearn.svm import SVC\n",
    "\n",
    "#Libraries calculate the model metrics\n",
    "from sklearn.metrics import roc_curve, auc, roc_auc_score, confusion_matrix\n",
    "from sklearn.metrics import accuracy_score\n",
    "\n",
    "%matplotlib inline \n",
    "import warnings\n",
    "warnings.filterwarnings(\"ignore\")"
   ]
  },
  {
   "cell_type": "code",
   "execution_count": null,
   "id": "3f4819ee",
   "metadata": {},
   "outputs": [],
   "source": [
    "# Versions of packages used in this notebook jupyter\n",
    "%reload_ext watermark\n",
    "%watermark -a \"Matheus Francelino Barbosa\" --iversions"
   ]
  },
  {
   "cell_type": "markdown",
   "id": "b3dc826e",
   "metadata": {},
   "source": [
    "## Loading the Dataset"
   ]
  },
  {
   "cell_type": "code",
   "execution_count": null,
   "id": "0fa7967f",
   "metadata": {},
   "outputs": [],
   "source": [
    "# Load the training data\n",
    "dados_treino = pd.read_csv('dados/projeto4_telecom_treino.csv')"
   ]
  },
  {
   "cell_type": "code",
   "execution_count": null,
   "id": "13938f6c",
   "metadata": {},
   "outputs": [],
   "source": [
    "dados_treino.shape"
   ]
  },
  {
   "cell_type": "code",
   "execution_count": null,
   "id": "bf4f4d03",
   "metadata": {},
   "outputs": [],
   "source": [
    "# Load the test data\n",
    "dados_teste = pd.read_csv('dados/projeto4_telecom_teste.csv')"
   ]
  },
  {
   "cell_type": "code",
   "execution_count": null,
   "id": "b2381123",
   "metadata": {},
   "outputs": [],
   "source": [
    "dados_teste.shape"
   ]
  },
  {
   "cell_type": "code",
   "execution_count": null,
   "id": "3ac9cc9e",
   "metadata": {},
   "outputs": [],
   "source": [
    "dados_treino.columns"
   ]
  },
  {
   "cell_type": "code",
   "execution_count": null,
   "id": "f7ee34d3",
   "metadata": {},
   "outputs": [],
   "source": [
    "dados_treino.sample(10)"
   ]
  },
  {
   "cell_type": "code",
   "execution_count": null,
   "id": "825364ba",
   "metadata": {},
   "outputs": [],
   "source": [
    "#Checking Data Types\n",
    "dados_treino.dtypes"
   ]
  },
  {
   "cell_type": "code",
   "execution_count": null,
   "id": "e61caee3",
   "metadata": {},
   "outputs": [],
   "source": [
    "# Checking only categorical variables\n",
    "dados_treino.dtypes[dados_treino.dtypes == 'object']"
   ]
  },
  {
   "cell_type": "code",
   "execution_count": null,
   "id": "d9c7a4e1",
   "metadata": {},
   "outputs": [],
   "source": [
    "# List of categorical columns\n",
    "cats = ['state',\n",
    "        'area_code', \n",
    "        'international_plan',\n",
    "        'voice_mail_plan']"
   ]
  },
  {
   "cell_type": "code",
   "execution_count": null,
   "id": "010b52f9",
   "metadata": {},
   "outputs": [],
   "source": [
    "#Verifying only numerical variables\n",
    "dados_treino.dtypes[dados_treino.dtypes != 'object']"
   ]
  },
  {
   "cell_type": "code",
   "execution_count": null,
   "id": "ffc65c9f",
   "metadata": {},
   "outputs": [],
   "source": [
    "# List of numerical columns\n",
    "nums = ['account_length', \n",
    "        'number_vmail_messages', \n",
    "        'total_day_minutes', \n",
    "        'total_day_calls', \n",
    "        'total_day_charge', \n",
    "        'total_eve_minutes',\n",
    "        'total_eve_calls',\n",
    "        'total_eve_charge',\n",
    "        'total_night_minutes',\n",
    "        'total_night_calls',\n",
    "        'total_night_charge',\n",
    "        'total_intl_minutes',\n",
    "        'total_intl_calls',\n",
    "        'total_intl_charge',\n",
    "        'number_customer_service_calls']"
   ]
  },
  {
   "cell_type": "code",
   "execution_count": null,
   "id": "5ad461c9",
   "metadata": {},
   "outputs": [],
   "source": [
    "dados_treino['churn'].value_counts()"
   ]
  },
  {
   "cell_type": "code",
   "execution_count": null,
   "id": "e38f4cf0",
   "metadata": {},
   "outputs": [],
   "source": [
    "target = dados_treino['churn']"
   ]
  },
  {
   "cell_type": "code",
   "execution_count": null,
   "id": "a70128a5",
   "metadata": {},
   "outputs": [],
   "source": [
    "target.value_counts()"
   ]
  },
  {
   "cell_type": "markdown",
   "id": "8a98685a",
   "metadata": {},
   "source": [
    "## Exploring the numerical data"
   ]
  },
  {
   "cell_type": "code",
   "execution_count": null,
   "id": "2bb2ecb2",
   "metadata": {},
   "outputs": [],
   "source": [
    "dados_treino.describe()"
   ]
  },
  {
   "cell_type": "code",
   "execution_count": null,
   "id": "b2e7562b",
   "metadata": {
    "scrolled": false
   },
   "outputs": [],
   "source": [
    "# Plot \n",
    "dados_treino.hist(figsize = (15,15), bins = 10) \n",
    "plt.show()"
   ]
  },
  {
   "cell_type": "markdown",
   "id": "518f7eaa",
   "metadata": {},
   "source": [
    "Aparentemente as variaveis seguem uma distribuição normal, exceto pela variavel _number_vmail_messages_"
   ]
  },
  {
   "cell_type": "code",
   "execution_count": null,
   "id": "e2d26f73",
   "metadata": {},
   "outputs": [],
   "source": [
    "#Rename the variable target\n",
    "dados_treino.rename({'churn':'Target'}, axis = 'columns', inplace = True)"
   ]
  },
  {
   "cell_type": "code",
   "execution_count": null,
   "id": "a5e1536f",
   "metadata": {},
   "outputs": [],
   "source": [
    "dados_treino.columns"
   ]
  },
  {
   "cell_type": "code",
   "execution_count": null,
   "id": "d689597c",
   "metadata": {},
   "outputs": [],
   "source": [
    "# Function for label encoding\n",
    "# Let's change 'no' to 0 and 'yes' to 1\n",
    "def encoding_func(x):\n",
    "    if x == 'no':\n",
    "        return 0\n",
    "    return 1"
   ]
  },
  {
   "cell_type": "code",
   "execution_count": null,
   "id": "8af507c4",
   "metadata": {},
   "outputs": [],
   "source": [
    "# Apply the function\n",
    "dados_treino['Target'] = dados_treino['Target'].map(encoding_func)"
   ]
  },
  {
   "cell_type": "code",
   "execution_count": null,
   "id": "d3ee93fc",
   "metadata": {},
   "outputs": [],
   "source": [
    "dados_treino.sample(5)"
   ]
  },
  {
   "cell_type": "code",
   "execution_count": null,
   "id": "f50c6c2d",
   "metadata": {},
   "outputs": [],
   "source": [
    "dados_treino['Target'].value_counts()"
   ]
  },
  {
   "cell_type": "code",
   "execution_count": null,
   "id": "f559aae8",
   "metadata": {},
   "outputs": [],
   "source": [
    "target = dados_treino['Target']"
   ]
  },
  {
   "cell_type": "code",
   "execution_count": null,
   "id": "2c961036",
   "metadata": {},
   "outputs": [],
   "source": [
    "# List of numerical columns\n",
    "nums = ['account_length', \n",
    "        'number_vmail_messages', \n",
    "        'total_day_minutes', \n",
    "        'total_day_calls', \n",
    "        'total_day_charge', \n",
    "        'total_eve_minutes',\n",
    "        'total_eve_calls',\n",
    "        'total_eve_charge',\n",
    "        'total_night_minutes',\n",
    "        'total_night_calls',\n",
    "        'total_night_charge',\n",
    "        'total_intl_minutes',\n",
    "        'total_intl_calls',\n",
    "        'total_intl_charge',\n",
    "        'number_customer_service_calls',\n",
    "        'Target']"
   ]
  },
  {
   "cell_type": "code",
   "execution_count": null,
   "id": "712f67e7",
   "metadata": {},
   "outputs": [],
   "source": [
    "# Correlation between numerical variables\n",
    "dados_treino.corr()"
   ]
  },
  {
   "cell_type": "code",
   "execution_count": null,
   "id": "341f218d",
   "metadata": {},
   "outputs": [],
   "source": [
    "corr_df = dados_treino[nums].corr()"
   ]
  },
  {
   "cell_type": "code",
   "execution_count": null,
   "id": "772f6f11",
   "metadata": {},
   "outputs": [],
   "source": [
    "# Correlation (visual)\n",
    "plt.figure(figsize = (14, 12))\n",
    "sns.heatmap(corr_df, cmap = 'Blues', annot = True, fmt = '.2f') #cmap = 'Reds'"
   ]
  },
  {
   "cell_type": "markdown",
   "id": "2ce2f4d5",
   "metadata": {},
   "source": [
    "### Checking the relationship between attributes"
   ]
  },
  {
   "cell_type": "code",
   "execution_count": null,
   "id": "ffeaaad0",
   "metadata": {},
   "outputs": [],
   "source": [
    "# Set the background style\n",
    "sns.set_style('darkgrid')  \n",
    "\n",
    "# Facetgrid\n",
    "sns.FacetGrid(dados_treino, hue = 'Target', size = 5).map(plt.scatter, 'total_day_minutes', 'total_day_charge').add_legend()"
   ]
  },
  {
   "cell_type": "code",
   "execution_count": null,
   "id": "69f574b4",
   "metadata": {},
   "outputs": [],
   "source": [
    "# Set the background style\n",
    "sns.set_style('darkgrid')  \n",
    "\n",
    "# Facetgrid\n",
    "sns.FacetGrid(dados_treino, hue = 'Target', size = 5).map(plt.scatter, 'total_eve_minutes', 'total_eve_charge').add_legend()"
   ]
  },
  {
   "cell_type": "code",
   "execution_count": null,
   "id": "1f9670af",
   "metadata": {},
   "outputs": [],
   "source": [
    "# Set the background style\n",
    "sns.set_style('darkgrid')  \n",
    "\n",
    "# Facetgrid\n",
    "sns.FacetGrid(dados_treino, hue = 'Target', size = 5).map(plt.scatter, 'total_night_minutes', 'total_night_charge').add_legend()"
   ]
  },
  {
   "cell_type": "code",
   "execution_count": null,
   "id": "11bf6724",
   "metadata": {},
   "outputs": [],
   "source": [
    "# Set the background style\n",
    "sns.set_style('darkgrid')  \n",
    "\n",
    "# Facetgrid\n",
    "sns.FacetGrid(dados_treino, hue = 'Target', size = 5).map(plt.scatter, 'total_intl_minutes', 'total_intl_charge').add_legend()"
   ]
  },
  {
   "cell_type": "markdown",
   "id": "d7dfcca2",
   "metadata": {},
   "source": [
    "***In order to avoid strong correlation between the attributes, we can remove the variables total_day_minutes, total_eve_minutes, total_night_minutes and total_intl_minutes***"
   ]
  },
  {
   "cell_type": "markdown",
   "id": "6f67de69",
   "metadata": {},
   "source": [
    "## Exploring the categorical data"
   ]
  },
  {
   "cell_type": "code",
   "execution_count": null,
   "id": "c563054e",
   "metadata": {},
   "outputs": [],
   "source": [
    "dados_treino.describe(include = ['object'])"
   ]
  },
  {
   "cell_type": "code",
   "execution_count": null,
   "id": "7c8e7b7a",
   "metadata": {},
   "outputs": [],
   "source": [
    "plt.figure(figsize = (14, 12))\n",
    "for i in range(0, len(cats)):\n",
    "    plt.subplot(2, 2, i+1)\n",
    "    sns.countplot(x = dados_treino[cats[i]], color = 'green', orient = 'v')\n",
    "    plt.tight_layout()"
   ]
  },
  {
   "cell_type": "markdown",
   "id": "506515ad",
   "metadata": {},
   "source": [
    "## Applying transformations on categorical variables"
   ]
  },
  {
   "cell_type": "code",
   "execution_count": null,
   "id": "952120b3",
   "metadata": {},
   "outputs": [],
   "source": [
    "# Function for label encoding for international_plan -> 0 = no and 1 = yes\n",
    "# Apply function\n",
    "dados_treino['international_plan'] = dados_treino['international_plan'].map(encoding_func)"
   ]
  },
  {
   "cell_type": "code",
   "execution_count": null,
   "id": "afb8d3d2",
   "metadata": {},
   "outputs": [],
   "source": [
    "# Function for label encoding for international_plna -> 0 = no and 1 = yes\n",
    "# Apply the function\n",
    "dados_treino['voice_mail_plan'] = dados_treino['voice_mail_plan'].map(encoding_func)"
   ]
  },
  {
   "cell_type": "code",
   "execution_count": null,
   "id": "7e6902fc",
   "metadata": {},
   "outputs": [],
   "source": [
    "dados_treino.sample(5)"
   ]
  },
  {
   "cell_type": "code",
   "execution_count": null,
   "id": "a0d77e4d",
   "metadata": {},
   "outputs": [],
   "source": [
    "dados_treino.columns"
   ]
  },
  {
   "cell_type": "code",
   "execution_count": null,
   "id": "5159a2fb",
   "metadata": {},
   "outputs": [],
   "source": [
    "# Checking only categorical variables\n",
    "dados_treino.dtypes[dados_treino.dtypes == 'object']"
   ]
  },
  {
   "cell_type": "code",
   "execution_count": null,
   "id": "695b64fe",
   "metadata": {},
   "outputs": [],
   "source": [
    "# Checking only the non-categorical variables\n",
    "dados_treino.dtypes[dados_treino.dtypes != 'object']"
   ]
  },
  {
   "cell_type": "code",
   "execution_count": null,
   "id": "fb24b7e6",
   "metadata": {},
   "outputs": [],
   "source": [
    "dados_treino['state'].value_counts()"
   ]
  },
  {
   "cell_type": "code",
   "execution_count": null,
   "id": "7a580dba",
   "metadata": {},
   "outputs": [],
   "source": [
    "#Applying one hot enconding to the area code variable"
   ]
  },
  {
   "cell_type": "code",
   "execution_count": null,
   "id": "94b3aa14",
   "metadata": {},
   "outputs": [],
   "source": [
    "# Applying One-Hot Encoding\n",
    "for cat in ['area_code']:\n",
    "    onehots = pd.get_dummies(dados_treino[cat], prefix = cat)\n",
    "    dados_treino = dados_treino.join(onehots)"
   ]
  },
  {
   "cell_type": "code",
   "execution_count": null,
   "id": "8000a207",
   "metadata": {},
   "outputs": [],
   "source": [
    "dados_treino.columns\n"
   ]
  },
  {
   "cell_type": "code",
   "execution_count": null,
   "id": "f26c2b04",
   "metadata": {},
   "outputs": [],
   "source": [
    "dados_treino.sample(5)"
   ]
  },
  {
   "cell_type": "markdown",
   "id": "f18965b1",
   "metadata": {},
   "source": [
    "## Clearing the Data"
   ]
  },
  {
   "cell_type": "markdown",
   "id": "20df4d16",
   "metadata": {},
   "source": [
    "First we will remove the states column and the area_code column because now we have the one-hot encode"
   ]
  },
  {
   "cell_type": "code",
   "execution_count": null,
   "id": "71a0860f",
   "metadata": {},
   "outputs": [],
   "source": [
    "dados_treino = dados_treino.drop(columns = ['Unnamed: 0', \n",
    "                        'state', \n",
    "                        'area_code'])"
   ]
  },
  {
   "cell_type": "code",
   "execution_count": null,
   "id": "8ad5c3e0",
   "metadata": {},
   "outputs": [],
   "source": [
    "# Removing the total_day_minutes, total_eve_minutes, total_night_minutes and total_intl_minutes columns to avoid correlation\n",
    "dados_treino = dados_treino.drop(columns = ['total_day_minutes', \n",
    "                                            'total_eve_minutes', \n",
    "                                            'total_night_minutes',\n",
    "                                            'total_intl_minutes'])"
   ]
  },
  {
   "cell_type": "code",
   "execution_count": null,
   "id": "321dac7a",
   "metadata": {},
   "outputs": [],
   "source": [
    "dados_treino.sample(5)"
   ]
  },
  {
   "cell_type": "code",
   "execution_count": null,
   "id": "ab010b3d",
   "metadata": {},
   "outputs": [],
   "source": [
    "#Rename the variable area_code\n",
    "dados_treino.rename({'area_code_area_code_408':'area_code_408','area_code_area_code_415':'area_code_415','area_code_area_code_510':'area_code_510'}, axis = 'columns', inplace = True)"
   ]
  },
  {
   "cell_type": "code",
   "execution_count": null,
   "id": "c0f75e70",
   "metadata": {},
   "outputs": [],
   "source": [
    "dados_treino.sample(5)"
   ]
  },
  {
   "cell_type": "markdown",
   "id": "fe2505d8",
   "metadata": {},
   "source": [
    "### Checking for null and duplicate values"
   ]
  },
  {
   "cell_type": "code",
   "execution_count": null,
   "id": "8c119fcc",
   "metadata": {},
   "outputs": [],
   "source": [
    "#Null values\n",
    "dados_treino[dados_treino.isnull().values]"
   ]
  },
  {
   "cell_type": "code",
   "execution_count": null,
   "id": "fc98fe55",
   "metadata": {},
   "outputs": [],
   "source": [
    "#Duplicate values\n",
    "dados_treino[dados_treino.duplicated(keep = False)]"
   ]
  },
  {
   "cell_type": "markdown",
   "id": "bbc3a3f2",
   "metadata": {},
   "source": [
    "## Checking Outliers"
   ]
  },
  {
   "cell_type": "code",
   "execution_count": null,
   "id": "f01fad22",
   "metadata": {},
   "outputs": [],
   "source": [
    "dados_treino.describe()"
   ]
  },
  {
   "cell_type": "code",
   "execution_count": null,
   "id": "072a9fb3",
   "metadata": {},
   "outputs": [],
   "source": [
    "dados_treino.shape"
   ]
  },
  {
   "cell_type": "code",
   "execution_count": null,
   "id": "e01994ae",
   "metadata": {},
   "outputs": [],
   "source": [
    "dados_treino.columns"
   ]
  },
  {
   "cell_type": "code",
   "execution_count": null,
   "id": "28e87438",
   "metadata": {},
   "outputs": [],
   "source": [
    "var_num = ['account_length',\n",
    "       'number_vmail_messages', 'total_day_calls',\n",
    "       'total_day_charge', 'total_eve_calls',\n",
    "       'total_eve_charge', 'total_night_calls',\n",
    "       'total_night_charge', 'total_intl_calls',\n",
    "       'total_intl_charge', 'number_customer_service_calls']"
   ]
  },
  {
   "cell_type": "code",
   "execution_count": null,
   "id": "f14fdb09",
   "metadata": {},
   "outputs": [],
   "source": [
    "var_num"
   ]
  },
  {
   "cell_type": "code",
   "execution_count": null,
   "id": "1451ba93",
   "metadata": {},
   "outputs": [],
   "source": [
    "# Plot \n",
    "dados_treino.hist(figsize = (15,15), bins = 10) \n",
    "plt.show()"
   ]
  },
  {
   "cell_type": "code",
   "execution_count": null,
   "id": "b1d2f75a",
   "metadata": {},
   "outputs": [],
   "source": [
    "plt.figure(figsize = (20, 40))\n",
    "\n",
    "features = var_num\n",
    "for i in range(0, len(features)):\n",
    "    plt.subplot(5, int(len(features)/2), i + 1)\n",
    "    sns.boxplot(y = dados_treino[features[i]], color = 'magenta', orient = 'v')\n",
    "    #plt.tight_layout()"
   ]
  },
  {
   "cell_type": "code",
   "execution_count": null,
   "id": "73116d32",
   "metadata": {},
   "outputs": [],
   "source": [
    "dados_treino.columns"
   ]
  },
  {
   "cell_type": "code",
   "execution_count": null,
   "id": "dace0b8d",
   "metadata": {},
   "outputs": [],
   "source": [
    "# Boxplot\n",
    "plt.figure(figsize = (10, 4))\n",
    "sns.boxplot(dados_treino.account_length)"
   ]
  },
  {
   "cell_type": "code",
   "execution_count": null,
   "id": "ca56a30d",
   "metadata": {},
   "outputs": [],
   "source": [
    "#Frequency Counting per Value\n",
    "dados_treino.account_length.sort_values(ascending = False).head(10)\n"
   ]
  },
  {
   "cell_type": "code",
   "execution_count": null,
   "id": "96cccb9f",
   "metadata": {},
   "outputs": [],
   "source": [
    "# Keep only those records where the value is less than or equal to 220\n",
    "dados_treino = dados_treino[dados_treino.account_length <= 220]\n",
    "dados_treino.shape"
   ]
  },
  {
   "cell_type": "code",
   "execution_count": null,
   "id": "deb6c0f9",
   "metadata": {},
   "outputs": [],
   "source": [
    "# Boxplot\n",
    "plt.figure(figsize = (10, 4))\n",
    "sns.boxplot(dados_treino.total_day_calls)"
   ]
  },
  {
   "cell_type": "code",
   "execution_count": null,
   "id": "54c12541",
   "metadata": {},
   "outputs": [],
   "source": [
    "# Frequency count per value\n",
    "dados_treino.total_day_calls.sort_values(ascending = True).head(10)"
   ]
  },
  {
   "cell_type": "code",
   "execution_count": null,
   "id": "b2c76d2b",
   "metadata": {},
   "outputs": [],
   "source": [
    "# Keep only those records where the value is greater than 40\n",
    "dados_treino = dados_treino[dados_treino.total_day_calls >= 40]\n",
    "dados_treino.shape"
   ]
  },
  {
   "cell_type": "code",
   "execution_count": null,
   "id": "e9db348b",
   "metadata": {},
   "outputs": [],
   "source": [
    "# Frequency count per value\n",
    "dados_treino.total_day_calls.sort_values(ascending = False).head(10)"
   ]
  },
  {
   "cell_type": "code",
   "execution_count": null,
   "id": "e02d987f",
   "metadata": {},
   "outputs": [],
   "source": [
    "# Keep only those records where the value is less than 157\n",
    "dados_treino = dados_treino[dados_treino.total_day_calls <= 157]\n",
    "dados_treino.shape"
   ]
  },
  {
   "cell_type": "code",
   "execution_count": null,
   "id": "713016e6",
   "metadata": {},
   "outputs": [],
   "source": [
    "# Boxplot\n",
    "plt.figure(figsize = (10, 4))\n",
    "sns.boxplot(dados_treino.total_intl_calls)"
   ]
  },
  {
   "cell_type": "code",
   "execution_count": null,
   "id": "88f0b749",
   "metadata": {},
   "outputs": [],
   "source": [
    "# Frequency count per value\n",
    "dados_treino.total_intl_calls.sort_values(ascending = False).head(10)"
   ]
  },
  {
   "cell_type": "code",
   "execution_count": null,
   "id": "d9de78cb",
   "metadata": {},
   "outputs": [],
   "source": [
    "# Keep only those records where the value is less than 15\n",
    "dados_treino = dados_treino[dados_treino.total_intl_calls <= 15]\n",
    "dados_treino.shape"
   ]
  },
  {
   "cell_type": "code",
   "execution_count": null,
   "id": "7490f96f",
   "metadata": {},
   "outputs": [],
   "source": [
    "# Boxplot\n",
    "plt.figure(figsize = (10, 4))\n",
    "sns.boxplot(dados_treino.number_customer_service_calls)"
   ]
  },
  {
   "cell_type": "code",
   "execution_count": null,
   "id": "b476cc98",
   "metadata": {},
   "outputs": [],
   "source": [
    "# Frequency count per value\n",
    "dados_treino.number_customer_service_calls.sort_values(ascending = False).head(10)"
   ]
  },
  {
   "cell_type": "code",
   "execution_count": null,
   "id": "bc795634",
   "metadata": {},
   "outputs": [],
   "source": [
    "# Keep only those records where the value is less than 6\n",
    "dados_treino = dados_treino[dados_treino.number_customer_service_calls <= 6]\n",
    "dados_treino.shape"
   ]
  },
  {
   "cell_type": "code",
   "execution_count": null,
   "id": "8888c1ce",
   "metadata": {},
   "outputs": [],
   "source": [
    "dados_treino.sample(10)"
   ]
  },
  {
   "cell_type": "code",
   "execution_count": null,
   "id": "25c91678",
   "metadata": {},
   "outputs": [],
   "source": [
    "dados_treino['account_length'].describe()"
   ]
  },
  {
   "cell_type": "code",
   "execution_count": null,
   "id": "09761e86",
   "metadata": {},
   "outputs": [],
   "source": [
    "dados_treino.columns"
   ]
  },
  {
   "cell_type": "code",
   "execution_count": null,
   "id": "60afecbd",
   "metadata": {},
   "outputs": [],
   "source": [
    "num = ['account_length', 'international_plan', 'voice_mail_plan',\n",
    "       'number_vmail_messages', 'total_day_calls', 'total_day_charge',\n",
    "       'total_eve_calls', 'total_eve_charge', 'total_night_calls',\n",
    "       'total_night_charge', 'total_intl_calls', 'total_intl_charge',\n",
    "       'number_customer_service_calls', 'area_code_408',\n",
    "       'area_code_415', 'area_code_510', 'Target']"
   ]
  },
  {
   "cell_type": "code",
   "execution_count": null,
   "id": "0f4d379e",
   "metadata": {},
   "outputs": [],
   "source": [
    "corr_df2 = dados_treino[num].corr()"
   ]
  },
  {
   "cell_type": "code",
   "execution_count": null,
   "id": "b228bbaa",
   "metadata": {},
   "outputs": [],
   "source": [
    "# Correlation (visual)\n",
    "plt.figure(figsize = (14, 12))\n",
    "sns.heatmap(corr_df2, cmap = 'Blues', annot = True, fmt = '.2f') #cmap = 'Reds'"
   ]
  },
  {
   "cell_type": "code",
   "execution_count": null,
   "id": "0272bcfd",
   "metadata": {},
   "outputs": [],
   "source": [
    "dados_treino.corr()"
   ]
  },
  {
   "cell_type": "code",
   "execution_count": null,
   "id": "b8f34d5e",
   "metadata": {},
   "outputs": [],
   "source": [
    "dados_treino.describe()"
   ]
  },
  {
   "cell_type": "code",
   "execution_count": null,
   "id": "3ed542f3",
   "metadata": {},
   "outputs": [],
   "source": [
    "# Split dataset - Output variable\n",
    "y = dados_treino.Target"
   ]
  },
  {
   "cell_type": "code",
   "execution_count": null,
   "id": "93d79f9c",
   "metadata": {},
   "outputs": [],
   "source": [
    "y"
   ]
  },
  {
   "cell_type": "code",
   "execution_count": null,
   "id": "2ebf422d",
   "metadata": {},
   "outputs": [],
   "source": [
    "# Creates a separate object for the input variables\n",
    "X = dados_treino.drop('Target', axis = 1)"
   ]
  },
  {
   "cell_type": "code",
   "execution_count": null,
   "id": "9aafb5f6",
   "metadata": {},
   "outputs": [],
   "source": [
    "X"
   ]
  },
  {
   "cell_type": "code",
   "execution_count": null,
   "id": "8c0eb376",
   "metadata": {},
   "outputs": [],
   "source": [
    "print(X.shape, y.shape)"
   ]
  },
  {
   "cell_type": "code",
   "execution_count": null,
   "id": "c762488f",
   "metadata": {},
   "outputs": [],
   "source": [
    "X_treino = X"
   ]
  },
  {
   "cell_type": "code",
   "execution_count": null,
   "id": "244cfb4e",
   "metadata": {},
   "outputs": [],
   "source": [
    "y_treino = y"
   ]
  },
  {
   "cell_type": "markdown",
   "id": "d09b4e9a",
   "metadata": {},
   "source": [
    "## Balancing the classes in the training dataset"
   ]
  },
  {
   "cell_type": "code",
   "execution_count": null,
   "id": "97681282",
   "metadata": {},
   "outputs": [],
   "source": [
    "y.value_counts()"
   ]
  },
  {
   "cell_type": "code",
   "execution_count": null,
   "id": "29f91925",
   "metadata": {},
   "outputs": [],
   "source": [
    "# Installs the package\n",
    "!pip install -q imblearn"
   ]
  },
  {
   "cell_type": "code",
   "execution_count": null,
   "id": "72f88fb9",
   "metadata": {},
   "outputs": [],
   "source": [
    "# Load the SMOTE function\n",
    "import imblearn\n",
    "from imblearn.over_sampling import SMOTE"
   ]
  },
  {
   "cell_type": "code",
   "execution_count": null,
   "id": "a3850106",
   "metadata": {},
   "outputs": [],
   "source": [
    "# Let's apply the oversampling technique and increase the number of examples of the minority class\n",
    "over_sampler = SMOTE(k_neighbors = 2)"
   ]
  },
  {
   "cell_type": "code",
   "execution_count": null,
   "id": "4de48943",
   "metadata": {},
   "outputs": [],
   "source": [
    "# Apply oversampling (must be done with training data only)\n",
    "X_res, y_res = over_sampler.fit_resample(X_treino, y_treino)"
   ]
  },
  {
   "cell_type": "code",
   "execution_count": null,
   "id": "65800045",
   "metadata": {},
   "outputs": [],
   "source": [
    "y_res.value_counts()"
   ]
  },
  {
   "cell_type": "code",
   "execution_count": null,
   "id": "1c218c20",
   "metadata": {},
   "outputs": [],
   "source": [
    "X_treino = X_res\n",
    "y_treino = y_res"
   ]
  },
  {
   "cell_type": "markdown",
   "id": "b7be4cf5",
   "metadata": {},
   "source": [
    "## Standardization of the training dataset"
   ]
  },
  {
   "cell_type": "code",
   "execution_count": null,
   "id": "ac56006e",
   "metadata": {},
   "outputs": [],
   "source": [
    "X_treino.head()"
   ]
  },
  {
   "cell_type": "code",
   "execution_count": null,
   "id": "0876c9c2",
   "metadata": {},
   "outputs": [],
   "source": [
    "# We calculate mean and standard deviation of the training data\n",
    "treino_mean = X_treino.mean()\n",
    "treino_std = X_treino.std()\n",
    "print(treino_mean)\n",
    "print(treino_std)"
   ]
  },
  {
   "cell_type": "code",
   "execution_count": null,
   "id": "860c19d0",
   "metadata": {},
   "outputs": [],
   "source": [
    "# Standardization\n",
    "X_treino = (X_treino - treino_mean) / treino_std"
   ]
  },
  {
   "cell_type": "code",
   "execution_count": null,
   "id": "09a7656f",
   "metadata": {},
   "outputs": [],
   "source": [
    "X_treino.head()"
   ]
  },
  {
   "cell_type": "code",
   "execution_count": null,
   "id": "0ac09b83",
   "metadata": {},
   "outputs": [],
   "source": [
    "# Describe\n",
    "X_treino.describe()"
   ]
  },
  {
   "cell_type": "markdown",
   "id": "30da5f12",
   "metadata": {},
   "source": [
    "# Preparing the test data"
   ]
  },
  {
   "cell_type": "code",
   "execution_count": null,
   "id": "e9931398",
   "metadata": {},
   "outputs": [],
   "source": [
    "dados_treino.columns"
   ]
  },
  {
   "cell_type": "code",
   "execution_count": null,
   "id": "c5cca8e9",
   "metadata": {},
   "outputs": [],
   "source": [
    "dados_teste.shape"
   ]
  },
  {
   "cell_type": "code",
   "execution_count": null,
   "id": "a91629dc",
   "metadata": {},
   "outputs": [],
   "source": [
    "#Rename the variable target\n",
    "dados_teste.rename({'churn':'Target'}, axis = 'columns', inplace = True)"
   ]
  },
  {
   "cell_type": "code",
   "execution_count": null,
   "id": "3e3fccdd",
   "metadata": {},
   "outputs": [],
   "source": [
    "dados_teste.columns"
   ]
  },
  {
   "cell_type": "code",
   "execution_count": null,
   "id": "4250680e",
   "metadata": {},
   "outputs": [],
   "source": [
    "# Applies the function\n",
    "dados_teste['Target'] = dados_teste['Target'].map(encoding_func)"
   ]
  },
  {
   "cell_type": "code",
   "execution_count": null,
   "id": "386aadb0",
   "metadata": {},
   "outputs": [],
   "source": [
    "dados_teste.sample(5)"
   ]
  },
  {
   "cell_type": "code",
   "execution_count": null,
   "id": "6ca405ff",
   "metadata": {},
   "outputs": [],
   "source": [
    "# Function for label encoding for international_plan -> 0 = no and 1 = yes\n",
    "# Apply function\n",
    "dados_teste['international_plan'] = dados_teste['international_plan'].map(encoding_func)"
   ]
  },
  {
   "cell_type": "code",
   "execution_count": null,
   "id": "7b5183d0",
   "metadata": {},
   "outputs": [],
   "source": [
    "# Function for label encoding for voice_mail_plan -> 0 = no and 1 = yes\n",
    "# Apply the function\n",
    "dados_teste['voice_mail_plan'] = dados_teste['voice_mail_plan'].map(encoding_func)"
   ]
  },
  {
   "cell_type": "code",
   "execution_count": null,
   "id": "1ed65ffb",
   "metadata": {},
   "outputs": [],
   "source": [
    "dados_teste.sample(5)"
   ]
  },
  {
   "cell_type": "code",
   "execution_count": null,
   "id": "716f78a6",
   "metadata": {},
   "outputs": [],
   "source": [
    "# Applying One-Hot Encoding\n",
    "for cat in ['area_code']:\n",
    "    onehots = pd.get_dummies(dados_teste[cat], prefix = cat)\n",
    "    dados_teste = dados_teste.join(onehots)"
   ]
  },
  {
   "cell_type": "code",
   "execution_count": null,
   "id": "2d25a057",
   "metadata": {},
   "outputs": [],
   "source": [
    "dados_teste.columns"
   ]
  },
  {
   "cell_type": "code",
   "execution_count": null,
   "id": "94eb6059",
   "metadata": {},
   "outputs": [],
   "source": [
    "dados_teste = dados_teste.drop(columns = ['Unnamed: 0', \n",
    "                        'state', \n",
    "                        'area_code'])"
   ]
  },
  {
   "cell_type": "code",
   "execution_count": null,
   "id": "ea56dff4",
   "metadata": {},
   "outputs": [],
   "source": [
    "# Removing the total_day_minutes, total_eve_minutes, total_night_minutes and total_intl_minutes columns to avoid correlation\n",
    "dados_teste = dados_teste.drop(columns = ['total_day_minutes', \n",
    "                                            'total_eve_minutes', \n",
    "                                            'total_night_minutes',\n",
    "                                            'total_intl_minutes'])"
   ]
  },
  {
   "cell_type": "code",
   "execution_count": null,
   "id": "77a79ad8",
   "metadata": {},
   "outputs": [],
   "source": [
    "#Rename the variable area_code\n",
    "dados_teste.rename({'area_code_area_code_408':'area_code_408','area_code_area_code_415':'area_code_415','area_code_area_code_510':'area_code_510'}, axis = 'columns', inplace = True)"
   ]
  },
  {
   "cell_type": "code",
   "execution_count": null,
   "id": "ef0984e5",
   "metadata": {},
   "outputs": [],
   "source": [
    "dados_teste.columns"
   ]
  },
  {
   "cell_type": "code",
   "execution_count": null,
   "id": "586333a2",
   "metadata": {},
   "outputs": [],
   "source": [
    "y_teste = dados_teste.Target"
   ]
  },
  {
   "cell_type": "code",
   "execution_count": null,
   "id": "98258af8",
   "metadata": {},
   "outputs": [],
   "source": [
    "# Creates a separate object for the input variables\n",
    "X_teste = dados_teste.drop('Target', axis = 1)"
   ]
  },
  {
   "cell_type": "code",
   "execution_count": null,
   "id": "6f5bd01c",
   "metadata": {},
   "outputs": [],
   "source": [
    "# We use training mean and variance to standardize the test data set\n",
    "X_teste = (X_teste - treino_mean) / treino_std"
   ]
  },
  {
   "cell_type": "markdown",
   "id": "ab30866e",
   "metadata": {},
   "source": [
    "# Logistic Regression Model"
   ]
  },
  {
   "cell_type": "code",
   "execution_count": null,
   "id": "d52101e3",
   "metadata": {},
   "outputs": [],
   "source": [
    "# Set hyperparameter list\n",
    "tuned_params_v1 = {'C': [0.0001, 0.001, 0.01, 0.1, 1, 10, 100, 1000, 10000], \n",
    "                   'penalty': ['l1', 'l2']}"
   ]
  },
  {
   "cell_type": "code",
   "execution_count": null,
   "id": "8274525d",
   "metadata": {},
   "outputs": [],
   "source": [
    "# We will create the model with GridSearch \n",
    "# Several models will be created with different combinations of hyperparameters\n",
    "modelo_v1 = GridSearchCV(LogisticRegression(), \n",
    "                         tuned_params_v1, \n",
    "                         scoring = 'roc_auc', \n",
    "                         n_jobs = -1)"
   ]
  },
  {
   "cell_type": "code",
   "execution_count": null,
   "id": "b12de08c",
   "metadata": {},
   "outputs": [],
   "source": [
    "# Model training\n",
    "modelo_v1.fit(X_treino, y_treino)"
   ]
  },
  {
   "cell_type": "code",
   "execution_count": null,
   "id": "fb91db6f",
   "metadata": {},
   "outputs": [],
   "source": [
    "# We select the best model\n",
    "modelo_v1.best_estimator_"
   ]
  },
  {
   "cell_type": "code",
   "execution_count": null,
   "id": "b953afec",
   "metadata": {},
   "outputs": [],
   "source": [
    "# Predictions with test data\n",
    "y_pred_v1 = modelo_v1.predict(X_teste)"
   ]
  },
  {
   "cell_type": "code",
   "execution_count": null,
   "id": "7c8f1579",
   "metadata": {},
   "outputs": [],
   "source": [
    "# Show the top 10 predictions\n",
    "y_pred_v1[:10]"
   ]
  },
  {
   "cell_type": "code",
   "execution_count": null,
   "id": "68da285e",
   "metadata": {},
   "outputs": [],
   "source": [
    "# We get the predictions in probability format for each class\n",
    "y_pred_proba_v1 = modelo_v1.predict_proba(X_teste)"
   ]
  },
  {
   "cell_type": "code",
   "execution_count": null,
   "id": "fa89612a",
   "metadata": {},
   "outputs": [],
   "source": [
    "# Show the top 10 predictions\n",
    "y_pred_proba_v1[:10]"
   ]
  },
  {
   "cell_type": "code",
   "execution_count": null,
   "id": "b088950d",
   "metadata": {},
   "outputs": [],
   "source": [
    "# We get the predictions in probability format by filtering for the positive class\n",
    "# We need this to calculate the ROC curve\n",
    "y_pred_proba_v1 = modelo_v1.predict_proba(X_teste)[:,1]"
   ]
  },
  {
   "cell_type": "code",
   "execution_count": null,
   "id": "419c38d1",
   "metadata": {},
   "outputs": [],
   "source": [
    "# Show the top 10 predictions\n",
    "y_pred_proba_v1[:10]"
   ]
  },
  {
   "cell_type": "code",
   "execution_count": null,
   "id": "aeef7ebb",
   "metadata": {},
   "outputs": [],
   "source": [
    "# As an example, let's check one of the data points (change the value of i if you wish)\n",
    "i = 16 \n",
    "print('For data point {}, actual class = {}, predicted class = {}, predicted probability = {}'.\n",
    "      format(i, y_teste.iloc[i], y_pred_v1[i], y_pred_proba_v1[i]))"
   ]
  },
  {
   "cell_type": "code",
   "execution_count": null,
   "id": "41a63dc9",
   "metadata": {},
   "outputs": [],
   "source": [
    "# Confusion matrix\n",
    "confusion_matrix(y_teste, y_pred_v1)"
   ]
  },
  {
   "cell_type": "code",
   "execution_count": null,
   "id": "0610a19a",
   "metadata": {},
   "outputs": [],
   "source": [
    "# Extracting each value from the CM\n",
    "tn, fp, fn, tp = confusion_matrix(y_teste, y_pred_v1).ravel()"
   ]
  },
  {
   "cell_type": "code",
   "execution_count": null,
   "id": "864cf4a2",
   "metadata": {},
   "outputs": [],
   "source": [
    "print(tn, fp, fn, tp)"
   ]
  },
  {
   "cell_type": "code",
   "execution_count": null,
   "id": "cb346e70",
   "metadata": {},
   "outputs": [],
   "source": [
    "# Calculate overall AUC (Area Under The Curve) metric with actual data and predictions under test\n",
    "roc_auc_v1 = roc_auc_score(y_teste, y_pred_v1)\n",
    "print(roc_auc_v1)"
   ]
  },
  {
   "cell_type": "code",
   "execution_count": null,
   "id": "1232b19d",
   "metadata": {},
   "outputs": [],
   "source": [
    "# Calculate the ROC curve with data and predictions under test\n",
    "fpr_v1, tpr_v1, thresholds = roc_curve(y_teste, y_pred_proba_v1)"
   ]
  },
  {
   "cell_type": "code",
   "execution_count": null,
   "id": "2e77b674",
   "metadata": {},
   "outputs": [],
   "source": [
    "# AUC in test\n",
    "auc_v1 = auc(fpr_v1, tpr_v1)\n",
    "print(auc_v1)"
   ]
  },
  {
   "cell_type": "code",
   "execution_count": null,
   "id": "af3b7d62",
   "metadata": {},
   "outputs": [],
   "source": [
    "# Test Accuracy\n",
    "acuracia_v1 = accuracy_score(y_teste, y_pred_v1)\n",
    "print(acuracia_v1)"
   ]
  },
  {
   "cell_type": "markdown",
   "id": "c0b47cc2",
   "metadata": {},
   "source": [
    "### Feature Importance"
   ]
  },
  {
   "cell_type": "code",
   "execution_count": null,
   "id": "3a5a3878",
   "metadata": {},
   "outputs": [],
   "source": [
    "# Building the model again with the best hyperparameters\n",
    "# This is necessary because the final version should not have GridSearchCV\n",
    "modelo_v1 = LogisticRegression(C = 1)\n",
    "modelo_v1.fit(X_treino, y_treino)"
   ]
  },
  {
   "cell_type": "code",
   "execution_count": null,
   "id": "056a54eb",
   "metadata": {},
   "outputs": [],
   "source": [
    "# We get the coefficients by largest using np.argsort\n",
    "indices = np.argsort(-abs(modelo_v1.coef_[0,:]))"
   ]
  },
  {
   "cell_type": "code",
   "execution_count": null,
   "id": "1e3b827d",
   "metadata": {},
   "outputs": [],
   "source": [
    "print(\"Most important variables for the model result_v1:\")\n",
    "print(50*'-')\n",
    "for feature in X.columns[indices]:\n",
    "    print(feature)"
   ]
  },
  {
   "cell_type": "code",
   "execution_count": null,
   "id": "a38ca679",
   "metadata": {},
   "outputs": [],
   "source": [
    "# Save the template to disk\n",
    "with open('modelos/modelo_regressao.pkl', 'wb') as pickle_file:\n",
    "      joblib.dump(modelo_v1, 'modelos/modelo_regressao.pkl') "
   ]
  },
  {
   "cell_type": "markdown",
   "id": "b4b35f2e",
   "metadata": {},
   "source": [
    "## Model V2"
   ]
  },
  {
   "cell_type": "code",
   "execution_count": null,
   "id": "820f429e",
   "metadata": {},
   "outputs": [],
   "source": [
    "dados_treino.columns"
   ]
  },
  {
   "cell_type": "code",
   "execution_count": null,
   "id": "cc2ec10d",
   "metadata": {},
   "outputs": [],
   "source": [
    "# Removing the total_day_minutes, total_eve_minutes, total_night_minutes and total_intl_minutes columns to avoid correlation\n",
    "dados_treino = dados_teste.drop(columns = ['area_code_408', \n",
    "                                            'area_code_510', \n",
    "                                            'area_code_415'])"
   ]
  },
  {
   "cell_type": "code",
   "execution_count": null,
   "id": "4a9e3a40",
   "metadata": {},
   "outputs": [],
   "source": [
    "dados_treino.columns"
   ]
  },
  {
   "cell_type": "code",
   "execution_count": null,
   "id": "3be5841c",
   "metadata": {},
   "outputs": [],
   "source": [
    "dados_treino.sample(5)"
   ]
  },
  {
   "cell_type": "code",
   "execution_count": null,
   "id": "a0351f07",
   "metadata": {},
   "outputs": [],
   "source": [
    "# Describe\n",
    "X_treino.describe()"
   ]
  },
  {
   "cell_type": "code",
   "execution_count": null,
   "id": "43a3c549",
   "metadata": {},
   "outputs": [],
   "source": [
    "# Describe\n",
    "y_treino.describe()"
   ]
  },
  {
   "cell_type": "code",
   "execution_count": null,
   "id": "6a7afe74",
   "metadata": {},
   "outputs": [],
   "source": [
    "# Removing the total_day_minutes, total_eve_minutes, total_night_minutes and total_intl_minutes columns to avoid correlation\n",
    "X_treino = X_treino.drop(columns = ['area_code_408', \n",
    "                                            'area_code_510', \n",
    "                                            'area_code_415'])"
   ]
  },
  {
   "cell_type": "code",
   "execution_count": null,
   "id": "74f8f82b",
   "metadata": {},
   "outputs": [],
   "source": [
    "# Describe\n",
    "X_treino.describe()"
   ]
  },
  {
   "cell_type": "markdown",
   "id": "9dade662",
   "metadata": {},
   "source": [
    "### Do the same thing with Test Data"
   ]
  },
  {
   "cell_type": "code",
   "execution_count": null,
   "id": "edca389e",
   "metadata": {},
   "outputs": [],
   "source": [
    "X_teste.sample(5)"
   ]
  },
  {
   "cell_type": "code",
   "execution_count": null,
   "id": "4e282628",
   "metadata": {},
   "outputs": [],
   "source": [
    "# Removing the total_day_minutes, total_eve_minutes, total_night_minutes and total_intl_minutes columns to avoid correlation\n",
    "X_teste = X_teste.drop(columns = ['area_code_408', \n",
    "                                            'area_code_510', \n",
    "                                            'area_code_415'])"
   ]
  },
  {
   "cell_type": "markdown",
   "id": "1fdd80dc",
   "metadata": {},
   "source": [
    "## Prediction V2 "
   ]
  },
  {
   "cell_type": "code",
   "execution_count": null,
   "id": "358c46a3",
   "metadata": {},
   "outputs": [],
   "source": [
    "# Define hyperparameter list\n",
    "tuned_params_v1 = {'C': [0.0001, 0.001, 0.01, 0.1, 1, 10, 100, 1000, 10000], \n",
    "                   'penalty': ['l1', 'l2']}"
   ]
  },
  {
   "cell_type": "code",
   "execution_count": null,
   "id": "0a233f02",
   "metadata": {},
   "outputs": [],
   "source": [
    "# We will create the model with GridSearch \n",
    "# Several models will be created with different combinations of hyperparameters\n",
    "modelo_v1 = GridSearchCV(LogisticRegression(), \n",
    "                         tuned_params_v1, \n",
    "                         scoring = 'roc_auc', \n",
    "                         n_jobs = -1)"
   ]
  },
  {
   "cell_type": "code",
   "execution_count": null,
   "id": "dddbe9b7",
   "metadata": {},
   "outputs": [],
   "source": [
    "# Model training\n",
    "modelo_v1.fit(X_treino, y_treino)"
   ]
  },
  {
   "cell_type": "code",
   "execution_count": null,
   "id": "ae9e8584",
   "metadata": {},
   "outputs": [],
   "source": [
    "# We select the best model\n",
    "modelo_v1.best_estimator_"
   ]
  },
  {
   "cell_type": "code",
   "execution_count": null,
   "id": "de2008ae",
   "metadata": {},
   "outputs": [],
   "source": [
    "# Show the top 10 predictions\n",
    "y_pred_v1[:10]"
   ]
  },
  {
   "cell_type": "code",
   "execution_count": null,
   "id": "01248a93",
   "metadata": {},
   "outputs": [],
   "source": [
    "# We get the predictions in probability format for each class\n",
    "y_pred_proba_v1 = modelo_v1.predict_proba(X_teste)"
   ]
  },
  {
   "cell_type": "code",
   "execution_count": null,
   "id": "9b1274cd",
   "metadata": {},
   "outputs": [],
   "source": [
    "# Show the top 10 predictions\n",
    "y_pred_proba_v1[:10]"
   ]
  },
  {
   "cell_type": "code",
   "execution_count": null,
   "id": "326784b2",
   "metadata": {},
   "outputs": [],
   "source": [
    "# We get the predictions in probability format by filtering for the positive class\n",
    "# We need this to calculate the ROC curve\n",
    "y_pred_proba_v1 = modelo_v1.predict_proba(X_teste)[:,1]"
   ]
  },
  {
   "cell_type": "code",
   "execution_count": null,
   "id": "7b966639",
   "metadata": {},
   "outputs": [],
   "source": [
    "# Show the top 10 predictions\n",
    "y_pred_proba_v1[:10]"
   ]
  },
  {
   "cell_type": "code",
   "execution_count": null,
   "id": "cde2fdc3",
   "metadata": {},
   "outputs": [],
   "source": [
    "# As an example, let's check one of the data points (change the value of i if you wish)\n",
    "i = 16 \n",
    "print('For data point {}, actual class = {}, predicted class = {}, predicted probability = {}'.\n",
    "      format(i, y_teste.iloc[i], y_pred_v1[i], y_pred_proba_v1[i]))"
   ]
  },
  {
   "cell_type": "code",
   "execution_count": null,
   "id": "e6752641",
   "metadata": {},
   "outputs": [],
   "source": [
    "# Confusion matrix\n",
    "confusion_matrix(y_teste, y_pred_v1)"
   ]
  },
  {
   "cell_type": "code",
   "execution_count": null,
   "id": "686fb8df",
   "metadata": {},
   "outputs": [],
   "source": [
    "# Extracting each value from the CM\n",
    "tn, fp, fn, tp = confusion_matrix(y_teste, y_pred_v1).ravel()"
   ]
  },
  {
   "cell_type": "code",
   "execution_count": null,
   "id": "fd63baaa",
   "metadata": {},
   "outputs": [],
   "source": [
    "print(tn, fp, fn, tp)"
   ]
  },
  {
   "cell_type": "code",
   "execution_count": null,
   "id": "e37314a5",
   "metadata": {},
   "outputs": [],
   "source": [
    "# Calculate overall AUC (Area Under The Curve) metric with actual data and predictions under test\n",
    "roc_auc_v1 = roc_auc_score(y_teste, y_pred_v1)\n",
    "print(roc_auc_v1)"
   ]
  },
  {
   "cell_type": "code",
   "execution_count": null,
   "id": "1cc3c5fd",
   "metadata": {},
   "outputs": [],
   "source": [
    "# Calculate overall AUC (Area Under The Curve) metric with actual data and predictions under test\n",
    "fpr_v1, tpr_v1, thresholds = roc_curve(y_teste, y_pred_proba_v1)"
   ]
  },
  {
   "cell_type": "code",
   "execution_count": null,
   "id": "3567b48c",
   "metadata": {},
   "outputs": [],
   "source": [
    "# AUC in test\n",
    "auc_v1 = auc(fpr_v1, tpr_v1)\n",
    "print(auc_v1)"
   ]
  },
  {
   "cell_type": "code",
   "execution_count": null,
   "id": "3c38e05c",
   "metadata": {},
   "outputs": [],
   "source": [
    "# Test Accuracy\n",
    "acuracia_v1 = accuracy_score(y_teste, y_pred_v1)\n",
    "print(acuracia_v1)"
   ]
  },
  {
   "cell_type": "markdown",
   "id": "4f2e1877",
   "metadata": {},
   "source": [
    "## Model V1 with 5 variables"
   ]
  },
  {
   "cell_type": "code",
   "execution_count": null,
   "id": "e7444587",
   "metadata": {},
   "outputs": [],
   "source": [
    "'''international_plan, voice_mail_plan, total_day_charge, total_eve_charge, number_customer\n",
    "\n",
    "voice_mail_plan\n",
    "total_day_charge\n",
    "number_customer_service_calls\n",
    "international_plan\n",
    "number_vmail_messages'''"
   ]
  },
  {
   "cell_type": "code",
   "execution_count": null,
   "id": "264a6da6",
   "metadata": {},
   "outputs": [],
   "source": [
    "X_treino.columns"
   ]
  },
  {
   "cell_type": "code",
   "execution_count": null,
   "id": "c26f7869",
   "metadata": {},
   "outputs": [],
   "source": [
    "X_treino = X_treino.drop(columns = ['account_length', \n",
    "                                    'total_day_calls', \n",
    "                                    'total_eve_calls',\n",
    "                                    'total_eve_charge',\n",
    "                                    'total_night_calls',\n",
    "                                    'total_night_charge',\n",
    "                                    'total_intl_calls',\n",
    "                                    'total_intl_charge'])"
   ]
  },
  {
   "cell_type": "code",
   "execution_count": null,
   "id": "71007317",
   "metadata": {},
   "outputs": [],
   "source": [
    "X_treino.columns"
   ]
  },
  {
   "cell_type": "code",
   "execution_count": null,
   "id": "b68a2ef8",
   "metadata": {},
   "outputs": [],
   "source": [
    "X_teste.columns"
   ]
  },
  {
   "cell_type": "code",
   "execution_count": null,
   "id": "c941870c",
   "metadata": {},
   "outputs": [],
   "source": [
    "X_teste = X_teste.drop(columns = ['account_length', \n",
    "                                    'total_day_calls', \n",
    "                                    'total_eve_calls',\n",
    "                                    'total_eve_charge',\n",
    "                                    'total_night_calls',\n",
    "                                    'total_night_charge',\n",
    "                                    'total_intl_calls',\n",
    "                                    'total_intl_charge'])"
   ]
  },
  {
   "cell_type": "code",
   "execution_count": null,
   "id": "53ec93e8",
   "metadata": {},
   "outputs": [],
   "source": [
    "# Define hyperparameter list\n",
    "tuned_params_v1 = {'C': [0.0001, 0.001, 0.01, 0.1, 1, 10, 100, 1000, 10000], \n",
    "                   'penalty': ['l2']}"
   ]
  },
  {
   "cell_type": "code",
   "execution_count": null,
   "id": "a8cf8ad6",
   "metadata": {},
   "outputs": [],
   "source": [
    "# We will create the model with GridSearch \n",
    "# Several models will be created with different combinations of hyperparameters\n",
    "modelo_v1 = GridSearchCV(LogisticRegression(), \n",
    "                         tuned_params_v1, \n",
    "                         scoring = 'roc_auc')"
   ]
  },
  {
   "cell_type": "code",
   "execution_count": null,
   "id": "ad56bcc1",
   "metadata": {},
   "outputs": [],
   "source": [
    "# Model training\n",
    "modelo_v1.fit(X_treino, y_treino)"
   ]
  },
  {
   "cell_type": "code",
   "execution_count": null,
   "id": "7073a400",
   "metadata": {},
   "outputs": [],
   "source": [
    "# We select the best model\n",
    "modelo_v1.best_estimator_"
   ]
  },
  {
   "cell_type": "code",
   "execution_count": null,
   "id": "5139c203",
   "metadata": {},
   "outputs": [],
   "source": [
    "# Show the top 10 predictions\n",
    "y_pred_v1[:10]"
   ]
  },
  {
   "cell_type": "code",
   "execution_count": null,
   "id": "79c0c7be",
   "metadata": {},
   "outputs": [],
   "source": [
    "# We get the predictions in probability format for each class\n",
    "y_pred_proba_v1 = modelo_v1.predict_proba(X_teste)"
   ]
  },
  {
   "cell_type": "code",
   "execution_count": null,
   "id": "744f4008",
   "metadata": {},
   "outputs": [],
   "source": [
    "# Show the top 10 predictions\n",
    "y_pred_proba_v1[:10]"
   ]
  },
  {
   "cell_type": "code",
   "execution_count": null,
   "id": "e403569c",
   "metadata": {},
   "outputs": [],
   "source": [
    "# We get the predictions in probability format by filtering for the positive class\n",
    "# We need this to calculate the ROC curve\n",
    "y_pred_proba_v1 = modelo_v1.predict_proba(X_teste)[:,1]"
   ]
  },
  {
   "cell_type": "code",
   "execution_count": null,
   "id": "eec2dae7",
   "metadata": {},
   "outputs": [],
   "source": [
    "# Show the top 10 predictions\n",
    "y_pred_proba_v1[:10]"
   ]
  },
  {
   "cell_type": "code",
   "execution_count": null,
   "id": "e461dd07",
   "metadata": {},
   "outputs": [],
   "source": [
    "# As an example, let's check one of the data points (change the value of i if you wish)\n",
    "i = 16 \n",
    "print('For data point {}, actual class = {}, predicted class = {}, predicted probability = {}'.\n",
    "      format(i, y_teste.iloc[i], y_pred_v1[i], y_pred_proba_v1[i]))"
   ]
  },
  {
   "cell_type": "code",
   "execution_count": null,
   "id": "852e530e",
   "metadata": {},
   "outputs": [],
   "source": [
    "# Confusion matrix\n",
    "confusion_matrix(y_teste, y_pred_v1)"
   ]
  },
  {
   "cell_type": "code",
   "execution_count": null,
   "id": "8835084e",
   "metadata": {},
   "outputs": [],
   "source": [
    "# Extracting each value from the CM\n",
    "tn, fp, fn, tp = confusion_matrix(y_teste, y_pred_v1).ravel()"
   ]
  },
  {
   "cell_type": "code",
   "execution_count": null,
   "id": "5d3b8b15",
   "metadata": {},
   "outputs": [],
   "source": [
    "# Calculate overall AUC (Area Under The Curve) metric with actual data and predictions under test\n",
    "roc_auc_v1 = roc_auc_score(y_teste, y_pred_v1)\n",
    "print(roc_auc_v1)"
   ]
  },
  {
   "cell_type": "code",
   "execution_count": null,
   "id": "9ab49a15",
   "metadata": {},
   "outputs": [],
   "source": [
    "# Calculate the ROC curve with data and predictions under test\n",
    "fpr_v1, tpr_v1, thresholds = roc_curve(y_teste, y_pred_proba_v1)"
   ]
  },
  {
   "cell_type": "code",
   "execution_count": null,
   "id": "6f4e2d03",
   "metadata": {},
   "outputs": [],
   "source": [
    "# AUC in test\n",
    "auc_v1 = auc(fpr_v1, tpr_v1)\n",
    "print(auc_v1)"
   ]
  },
  {
   "cell_type": "code",
   "execution_count": null,
   "id": "7cb5e057",
   "metadata": {},
   "outputs": [],
   "source": [
    "# Test Accuracy\n",
    "acuracia_v1 = accuracy_score(y_teste, y_pred_v1)\n",
    "print(acuracia_v1)"
   ]
  },
  {
   "cell_type": "code",
   "execution_count": null,
   "id": "768d290f",
   "metadata": {},
   "outputs": [],
   "source": [
    "# Create a dataframe to receive the metrics for each model\n",
    "df_modelos = pd.DataFrame()"
   ]
  },
  {
   "cell_type": "code",
   "execution_count": null,
   "id": "aa708479",
   "metadata": {},
   "outputs": [],
   "source": [
    "# Dictionary with model_v1 metrics\n",
    "dict_modelo_v1 = {'Nome': 'modelo_v1', \n",
    "                  'Algoritmo': 'Regressão Logística', \n",
    "                  'ROC_AUC Score': roc_auc_v1,\n",
    "                  'AUC Score': auc_v1,\n",
    "                  'Acurácia': acuracia_v1}"
   ]
  },
  {
   "cell_type": "code",
   "execution_count": null,
   "id": "73e43e14",
   "metadata": {},
   "outputs": [],
   "source": [
    "# Add dict to dataframe\n",
    "df_modelos = df_modelos.append(dict_modelo_v1, ignore_index = True)"
   ]
  },
  {
   "cell_type": "code",
   "execution_count": null,
   "id": "444ce361",
   "metadata": {},
   "outputs": [],
   "source": [
    "display(df_modelos)"
   ]
  },
  {
   "cell_type": "markdown",
   "id": "1c4e804d",
   "metadata": {},
   "source": [
    "# Random Forest Model"
   ]
  },
  {
   "cell_type": "code",
   "execution_count": null,
   "id": "a112a5ed",
   "metadata": {},
   "outputs": [],
   "source": [
    "X_treino.sample(5)"
   ]
  },
  {
   "cell_type": "code",
   "execution_count": null,
   "id": "a13a3395",
   "metadata": {},
   "outputs": [],
   "source": [
    "# Hyperparameter grid\n",
    "tuned_params_v2 = {'n_estimators': [100, 200, 300, 400, 500], \n",
    "                   'min_samples_split': [2, 5, 10], \n",
    "                   'min_samples_leaf': [1, 2, 4]}"
   ]
  },
  {
   "cell_type": "code",
   "execution_count": null,
   "id": "3dba7740",
   "metadata": {},
   "outputs": [],
   "source": [
    "# Create the model with RandomizedSearchCV to search for the best combination of hyperparameters\n",
    "modelo_v2 = RandomizedSearchCV(RandomForestClassifier(), \n",
    "                               tuned_params_v2, \n",
    "                               n_iter = 15, \n",
    "                               scoring = 'roc_auc', \n",
    "                               n_jobs  = -1)"
   ]
  },
  {
   "cell_type": "code",
   "execution_count": null,
   "id": "290e4c15",
   "metadata": {},
   "outputs": [],
   "source": [
    "# Model training\n",
    "modelo_v2.fit(X_treino, y_treino)"
   ]
  },
  {
   "cell_type": "code",
   "execution_count": null,
   "id": "ba65f4df",
   "metadata": {},
   "outputs": [],
   "source": [
    "# Extract the best model\n",
    "modelo_v2.best_estimator_"
   ]
  },
  {
   "cell_type": "code",
   "execution_count": null,
   "id": "f58bb094",
   "metadata": {},
   "outputs": [],
   "source": [
    "# Predictions under test\n",
    "y_pred_v2 = modelo_v2.predict(X_teste)"
   ]
  },
  {
   "cell_type": "code",
   "execution_count": null,
   "id": "1bbca72b",
   "metadata": {},
   "outputs": [],
   "source": [
    "# Get the predictions for the positive class\n",
    "y_pred_proba_v2 = modelo_v2.predict_proba(X_teste)[:,1]"
   ]
  },
  {
   "cell_type": "code",
   "execution_count": null,
   "id": "9eb57c02",
   "metadata": {},
   "outputs": [],
   "source": [
    "# Confusion matrix\n",
    "confusion_matrix(y_teste, y_pred_v2)"
   ]
  },
  {
   "cell_type": "code",
   "execution_count": null,
   "id": "31f1b586",
   "metadata": {},
   "outputs": [],
   "source": [
    "# ROC curve in data and predictions under test\n",
    "roc_auc_v2 = roc_auc_score(y_teste, y_pred_v2)\n",
    "print(roc_auc_v2)"
   ]
  },
  {
   "cell_type": "code",
   "execution_count": null,
   "id": "a8aa048e",
   "metadata": {},
   "outputs": [],
   "source": [
    "# ROC curve in data and predictions under test\n",
    "fpr_v2, tpr_v2, thresholds = roc_curve(y_teste, y_pred_proba_v2)"
   ]
  },
  {
   "cell_type": "code",
   "execution_count": null,
   "id": "cea2302a",
   "metadata": {},
   "outputs": [],
   "source": [
    "# AUC in test\n",
    "auc_v2 = auc(fpr_v2, tpr_v2)\n",
    "print(auc_v2)"
   ]
  },
  {
   "cell_type": "code",
   "execution_count": null,
   "id": "93fc4073",
   "metadata": {},
   "outputs": [],
   "source": [
    "# Test Accuracy\n",
    "acuracia_v2 = accuracy_score(y_teste, y_pred_v2)\n",
    "print(acuracia_v2)"
   ]
  },
  {
   "cell_type": "code",
   "execution_count": null,
   "id": "0ede2563",
   "metadata": {},
   "outputs": [],
   "source": [
    "# Save the template to disk\n",
    "with open('modelos/modelo_random_forest.pkl', 'wb') as pickle_file:\n",
    "      joblib.dump(modelo_v1, 'modelos/modelo_random_forest.pkl') "
   ]
  },
  {
   "cell_type": "code",
   "execution_count": null,
   "id": "f3138d90",
   "metadata": {},
   "outputs": [],
   "source": [
    "# Dictionary with model_v2 metrics\n",
    "dict_modelo_v2 = {'Nome': 'modelo_randomForest', \n",
    "                  'Algoritmo': 'Random Forest', \n",
    "                  'ROC_AUC Score': roc_auc_v2,\n",
    "                  'AUC Score': auc_v2,\n",
    "                  'Acurácia': acuracia_v2}"
   ]
  },
  {
   "cell_type": "code",
   "execution_count": null,
   "id": "b9242263",
   "metadata": {},
   "outputs": [],
   "source": [
    "# Add dict to dataframe\n",
    "df_modelos = df_modelos.append(dict_modelo_v2, ignore_index = True)"
   ]
  },
  {
   "cell_type": "code",
   "execution_count": null,
   "id": "1d5d6bc9",
   "metadata": {},
   "outputs": [],
   "source": [
    "display(df_modelos)"
   ]
  },
  {
   "cell_type": "markdown",
   "id": "be18b005",
   "metadata": {},
   "source": [
    "# Model 3 with KNN"
   ]
  },
  {
   "cell_type": "code",
   "execution_count": null,
   "id": "7504699f",
   "metadata": {},
   "outputs": [],
   "source": [
    "# List of possible values of K\n",
    "vizinhos = list(range(1, 20, 2))"
   ]
  },
  {
   "cell_type": "code",
   "execution_count": null,
   "id": "5d96c79e",
   "metadata": {},
   "outputs": [],
   "source": [
    "# List for the scores\n",
    "cv_scores = []"
   ]
  },
  {
   "cell_type": "code",
   "execution_count": null,
   "id": "388cecda",
   "metadata": {},
   "outputs": [],
   "source": [
    "# Cross-validation to determine the best value of k\n",
    "for k in vizinhos:\n",
    "    knn = KNeighborsClassifier(n_neighbors = k)\n",
    "    scores = cross_val_score(knn, X_treino, y_treino, cv = 5, scoring = 'accuracy')\n",
    "    cv_scores.append(scores.mean())  "
   ]
  },
  {
   "cell_type": "code",
   "execution_count": null,
   "id": "ad94f8b5",
   "metadata": {},
   "outputs": [],
   "source": [
    "# Adjusting the classification error\n",
    "erro = [1 - x for x in cv_scores]"
   ]
  },
  {
   "cell_type": "code",
   "execution_count": null,
   "id": "6e80788a",
   "metadata": {},
   "outputs": [],
   "source": [
    "# Determining the best value of k (with smallest error)\n",
    "optimal_k = vizinhos[erro.index(min(erro))]\n",
    "print('O valor ideal de k é %d' % optimal_k)"
   ]
  },
  {
   "cell_type": "code",
   "execution_count": null,
   "id": "c08aeb66",
   "metadata": {},
   "outputs": [],
   "source": [
    "# Create the model version 3\n",
    "modelo_v3 = KNeighborsClassifier(n_neighbors = optimal_k)"
   ]
  },
  {
   "cell_type": "code",
   "execution_count": null,
   "id": "324fca77",
   "metadata": {},
   "outputs": [],
   "source": [
    "# Model training\n",
    "modelo_v3.fit(X_treino, y_treino)"
   ]
  },
  {
   "cell_type": "code",
   "execution_count": null,
   "id": "0b57bc16",
   "metadata": {},
   "outputs": [],
   "source": [
    "# Predictions under test\n",
    "y_pred_v3 = modelo_v3.predict(X_teste)"
   ]
  },
  {
   "cell_type": "code",
   "execution_count": null,
   "id": "13bf63cb",
   "metadata": {},
   "outputs": [],
   "source": [
    "# Confusion matrix\n",
    "confusion_matrix(y_teste, y_pred_v3)"
   ]
  },
  {
   "cell_type": "code",
   "execution_count": null,
   "id": "1f3749e7",
   "metadata": {},
   "outputs": [],
   "source": [
    "# Positive class probability prediction\n",
    "y_pred_proba_v3 = modelo_v3.predict_proba(X_teste)[:,1]"
   ]
  },
  {
   "cell_type": "code",
   "execution_count": null,
   "id": "37e01601",
   "metadata": {},
   "outputs": [],
   "source": [
    "# Calculate ROC_AUC on test\n",
    "roc_auc_v3 = roc_auc_score(y_teste, y_pred_v3)\n",
    "print(roc_auc_v3)"
   ]
  },
  {
   "cell_type": "code",
   "execution_count": null,
   "id": "45d853fe",
   "metadata": {},
   "outputs": [],
   "source": [
    "# Calculate ROC curve\n",
    "fpr_v3, tpr_v3, thresholds = roc_curve(y_teste, y_pred_proba_v3)"
   ]
  },
  {
   "cell_type": "code",
   "execution_count": null,
   "id": "2e2362f0",
   "metadata": {},
   "outputs": [],
   "source": [
    "# AUC in test\n",
    "auc_v3 = auc(fpr_v3, tpr_v3)\n",
    "print(auc_v3)"
   ]
  },
  {
   "cell_type": "code",
   "execution_count": null,
   "id": "aa57537b",
   "metadata": {},
   "outputs": [],
   "source": [
    "# Test Accuracy\n",
    "acuracia_v3 = accuracy_score(y_teste, y_pred_v3)\n",
    "print(acuracia_v3)"
   ]
  },
  {
   "cell_type": "code",
   "execution_count": null,
   "id": "e79aab4e",
   "metadata": {},
   "outputs": [],
   "source": [
    "# Save the template to disk\n",
    "with open('modelos/modelo_knn.pkl', 'wb') as pickle_file:\n",
    "      joblib.dump(modelo_v3, 'modelos/modelo_knn.pkl') "
   ]
  },
  {
   "cell_type": "code",
   "execution_count": null,
   "id": "9da40637",
   "metadata": {},
   "outputs": [],
   "source": [
    "# Dictionary with model_v3 metrics\n",
    "dict_modelo_v3 = {'Nome': 'modelo_knn', \n",
    "                  'Algoritmo': 'KNN', \n",
    "                  'ROC_AUC Score': roc_auc_v3,\n",
    "                  'AUC Score': auc_v3,\n",
    "                  'Acurácia': acuracia_v3}"
   ]
  },
  {
   "cell_type": "code",
   "execution_count": null,
   "id": "3c33ad97",
   "metadata": {},
   "outputs": [],
   "source": [
    "# Add dict to dataframe\n",
    "df_modelos = df_modelos.append(dict_modelo_v3, ignore_index = True)"
   ]
  },
  {
   "cell_type": "code",
   "execution_count": null,
   "id": "61d6881b",
   "metadata": {},
   "outputs": [],
   "source": [
    "display(df_modelos)"
   ]
  },
  {
   "cell_type": "markdown",
   "id": "76176683",
   "metadata": {},
   "source": [
    "# Model 4 with Decision Tree"
   ]
  },
  {
   "cell_type": "code",
   "execution_count": null,
   "id": "d2339efd",
   "metadata": {},
   "outputs": [],
   "source": [
    "# Hyperparameters\n",
    "tuned_params_v4 = {'min_samples_split': [2, 3, 4, 5, 7], \n",
    "                   'min_samples_leaf': [1, 2, 3, 4, 6], \n",
    "                   'max_depth': [2, 3, 4, 5, 6, 7]}"
   ]
  },
  {
   "cell_type": "code",
   "execution_count": null,
   "id": "606a8689",
   "metadata": {},
   "outputs": [],
   "source": [
    "# Create the model with RandomizedSearchCV\n",
    "modelo_v4 = RandomizedSearchCV(DecisionTreeClassifier(), \n",
    "                               tuned_params_v4, \n",
    "                               n_iter = 15, \n",
    "                               scoring = 'roc_auc', \n",
    "                               n_jobs = -1)"
   ]
  },
  {
   "cell_type": "code",
   "execution_count": null,
   "id": "65562dbc",
   "metadata": {},
   "outputs": [],
   "source": [
    "# Model training\n",
    "modelo_v4.fit(X_treino, y_treino)"
   ]
  },
  {
   "cell_type": "code",
   "execution_count": null,
   "id": "f42220cb",
   "metadata": {},
   "outputs": [],
   "source": [
    "# Extract the best model\n",
    "modelo_v4.best_estimator_"
   ]
  },
  {
   "cell_type": "code",
   "execution_count": null,
   "id": "14e660ef",
   "metadata": {},
   "outputs": [],
   "source": [
    "# Predictions under test\n",
    "y_pred_v4 = modelo_v4.predict(X_teste)"
   ]
  },
  {
   "cell_type": "code",
   "execution_count": null,
   "id": "9c5142ee",
   "metadata": {},
   "outputs": [],
   "source": [
    "# Probability predictions\n",
    "y_pred_proba_v4 = modelo_v4.predict_proba(X_teste)[:,1]"
   ]
  },
  {
   "cell_type": "code",
   "execution_count": null,
   "id": "d776c717",
   "metadata": {},
   "outputs": [],
   "source": [
    "# Confusion matrix\n",
    "confusion_matrix(y_teste, y_pred_v4)"
   ]
  },
  {
   "cell_type": "code",
   "execution_count": null,
   "id": "4a3c3d64",
   "metadata": {},
   "outputs": [],
   "source": [
    "# Calculates ROC AUC score\n",
    "roc_auc_v4 = roc_auc_score(y_teste, y_pred_v4)\n",
    "print(roc_auc_v4)"
   ]
  },
  {
   "cell_type": "code",
   "execution_count": null,
   "id": "c7526a3d",
   "metadata": {},
   "outputs": [],
   "source": [
    "# ROC Curve\n",
    "fpr_v4, tpr_v4, thresholds = roc_curve(y_teste, y_pred_proba_v4)"
   ]
  },
  {
   "cell_type": "code",
   "execution_count": null,
   "id": "6ba5517d",
   "metadata": {},
   "outputs": [],
   "source": [
    "# AUC in test\n",
    "auc_v4 = auc(fpr_v4, tpr_v4)\n",
    "print(auc_v4)"
   ]
  },
  {
   "cell_type": "code",
   "execution_count": null,
   "id": "db1adbc9",
   "metadata": {},
   "outputs": [],
   "source": [
    "# Test Accuracy\n",
    "acuracia_v4 = accuracy_score(y_teste, y_pred_v4)\n",
    "print(acuracia_v4)"
   ]
  },
  {
   "cell_type": "code",
   "execution_count": null,
   "id": "32c72cbd",
   "metadata": {},
   "outputs": [],
   "source": [
    "# Save the template to disk\n",
    "with open('modelos/modelo_decision_tree.pkl', 'wb') as pickle_file:\n",
    "      joblib.dump(modelo_v4, 'modelos/modelo_decision_tree.pkl') "
   ]
  },
  {
   "cell_type": "code",
   "execution_count": null,
   "id": "09029e0b",
   "metadata": {},
   "outputs": [],
   "source": [
    "# Dictionary with model_v4 metrics\n",
    "dict_modelo_v4 = {'Nome': 'modelo_decisionTree', \n",
    "                  'Algoritmo': 'Decision Tree', \n",
    "                  'ROC_AUC Score': roc_auc_v4,\n",
    "                  'AUC Score': auc_v4,\n",
    "                  'Acurácia': acuracia_v4}"
   ]
  },
  {
   "cell_type": "code",
   "execution_count": null,
   "id": "e487a7b3",
   "metadata": {},
   "outputs": [],
   "source": [
    "# Add dict to dataframe\n",
    "df_modelos = df_modelos.append(dict_modelo_v4, ignore_index = True)"
   ]
  },
  {
   "cell_type": "code",
   "execution_count": null,
   "id": "4de02882",
   "metadata": {},
   "outputs": [],
   "source": [
    "display(df_modelos)"
   ]
  },
  {
   "cell_type": "markdown",
   "id": "dbfd3fb6",
   "metadata": {},
   "source": [
    "# Model 5 with SVM"
   ]
  },
  {
   "cell_type": "code",
   "execution_count": null,
   "id": "f9567635",
   "metadata": {},
   "outputs": [],
   "source": [
    "# Function for hyperparameter selection\n",
    "def svc_param_selection(X, y, nfolds):\n",
    "    Cs = [0.001, 0.01, 0.1, 1, 10]\n",
    "    gammas = [0.001, 0.01, 0.1, 1]\n",
    "    param_grid = {'C': Cs, 'gamma' : gammas}\n",
    "    grid_search = GridSearchCV(SVC(kernel = 'rbf'), param_grid, cv = nfolds)\n",
    "    grid_search.fit(X_treino, y_treino)\n",
    "    grid_search.best_params_\n",
    "    return grid_search.best_params_"
   ]
  },
  {
   "cell_type": "code",
   "execution_count": null,
   "id": "32344a22",
   "metadata": {},
   "outputs": [],
   "source": [
    "# Apply the function\n",
    "svc_param_selection(X_treino, y_treino, 5)"
   ]
  },
  {
   "cell_type": "code",
   "execution_count": null,
   "id": "785581c5",
   "metadata": {},
   "outputs": [],
   "source": [
    "# Create the model with the best hyperparameters\n",
    "modelo_v5 = SVC(C = 1, gamma = 1, probability = True)"
   ]
  },
  {
   "cell_type": "code",
   "execution_count": null,
   "id": "8270707b",
   "metadata": {},
   "outputs": [],
   "source": [
    "# Model training\n",
    "modelo_v5.fit(X_treino, y_treino)"
   ]
  },
  {
   "cell_type": "code",
   "execution_count": null,
   "id": "b9cf1d64",
   "metadata": {},
   "outputs": [],
   "source": [
    "# Predictions under test\n",
    "y_pred_v5 = modelo_v5.predict(X_teste)"
   ]
  },
  {
   "cell_type": "code",
   "execution_count": null,
   "id": "f8cf1a09",
   "metadata": {},
   "outputs": [],
   "source": [
    "confusion_matrix(y_teste, y_pred_v5)"
   ]
  },
  {
   "cell_type": "code",
   "execution_count": null,
   "id": "f6225b24",
   "metadata": {},
   "outputs": [],
   "source": [
    "# Probability predictions\n",
    "y_pred_proba_v5 = modelo_v5.predict_proba(X_teste)[:, 1]"
   ]
  },
  {
   "cell_type": "code",
   "execution_count": null,
   "id": "8c2b20a8",
   "metadata": {},
   "outputs": [],
   "source": [
    "# Calculates ROC AUC score\n",
    "roc_auc_v5 = roc_auc_score(y_teste, y_pred_v5)\n",
    "print(roc_auc_v5)"
   ]
  },
  {
   "cell_type": "code",
   "execution_count": null,
   "id": "589cd3e9",
   "metadata": {},
   "outputs": [],
   "source": [
    "# Calculate ROC curve\n",
    "fpr_v5, tpr_v5, thresholds = roc_curve(y_teste, y_pred_proba_v5)"
   ]
  },
  {
   "cell_type": "code",
   "execution_count": null,
   "id": "f3069f7e",
   "metadata": {},
   "outputs": [],
   "source": [
    "# AUC in test\n",
    "auc_v5 = auc(fpr_v5, tpr_v5)\n",
    "print(auc_v5)"
   ]
  },
  {
   "cell_type": "code",
   "execution_count": null,
   "id": "3536b82d",
   "metadata": {},
   "outputs": [],
   "source": [
    "# Test Accuracy\n",
    "acuracia_v5 = accuracy_score(y_teste, y_pred_v5)\n",
    "print(acuracia_v5)"
   ]
  },
  {
   "cell_type": "code",
   "execution_count": null,
   "id": "412b0b4f",
   "metadata": {},
   "outputs": [],
   "source": [
    "# Save the template to disk\n",
    "with open('modelos/modelo_svm.pkl', 'wb') as pickle_file:\n",
    "      joblib.dump(modelo_v5, 'modelos/modelo_svm.pkl') "
   ]
  },
  {
   "cell_type": "code",
   "execution_count": null,
   "id": "f57728fa",
   "metadata": {},
   "outputs": [],
   "source": [
    "# Dictionary with model_v5 metrics\n",
    "dict_modelo_v5 = {'Nome': 'modelo_svm', \n",
    "                  'Algoritmo': 'SVM', \n",
    "                  'ROC_AUC Score': roc_auc_v5,\n",
    "                  'AUC Score': auc_v5,\n",
    "                  'Acurácia': acuracia_v5}"
   ]
  },
  {
   "cell_type": "code",
   "execution_count": null,
   "id": "bb6161f3",
   "metadata": {},
   "outputs": [],
   "source": [
    "# Add dict to dataframe\n",
    "df_modelos = df_modelos.append(dict_modelo_v5, ignore_index = True)"
   ]
  },
  {
   "cell_type": "code",
   "execution_count": null,
   "id": "62c48f4b",
   "metadata": {},
   "outputs": [],
   "source": [
    "display(df_modelos)"
   ]
  },
  {
   "cell_type": "markdown",
   "id": "03cab796",
   "metadata": {},
   "source": [
    "## Best Model Selection"
   ]
  },
  {
   "cell_type": "code",
   "execution_count": null,
   "id": "c81fea5b",
   "metadata": {},
   "outputs": [],
   "source": [
    "# We will use the model with the highest AUC Score, because it is a global metric\n",
    "# The AUC Score is ideal for comparing models from different algorithms\n",
    "df_melhor_modelo = df_modelos[df_modelos['AUC Score'] == df_modelos['AUC Score'].max()]"
   ]
  },
  {
   "cell_type": "code",
   "execution_count": null,
   "id": "db2b05e1",
   "metadata": {},
   "outputs": [],
   "source": [
    "df_modelos['AUC Score'].max()"
   ]
  },
  {
   "cell_type": "code",
   "execution_count": null,
   "id": "2b690ae7",
   "metadata": {},
   "outputs": [],
   "source": [
    "df_melhor_modelo"
   ]
  }
 ],
 "metadata": {
  "kernelspec": {
   "display_name": "Python 3 (ipykernel)",
   "language": "python",
   "name": "python3"
  },
  "language_info": {
   "codemirror_mode": {
    "name": "ipython",
    "version": 3
   },
   "file_extension": ".py",
   "mimetype": "text/x-python",
   "name": "python",
   "nbconvert_exporter": "python",
   "pygments_lexer": "ipython3",
   "version": "3.9.12"
  }
 },
 "nbformat": 4,
 "nbformat_minor": 5
}
